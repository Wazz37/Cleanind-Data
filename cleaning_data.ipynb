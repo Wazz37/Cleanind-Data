{
 "cells": [
  {
   "cell_type": "markdown",
   "metadata": {},
   "source": [
    "# I. Downloading Data"
   ]
  },
  {
   "cell_type": "markdown",
   "metadata": {},
   "source": [
    "### Importing Libraries"
   ]
  },
  {
   "cell_type": "code",
   "execution_count": 712,
   "metadata": {},
   "outputs": [],
   "source": [
    "import gspread\n",
    "import pandas as pd\n",
    "from oauth2client.service_account import ServiceAccountCredentials"
   ]
  },
  {
   "cell_type": "markdown",
   "metadata": {},
   "source": [
    "### Accessing API"
   ]
  },
  {
   "cell_type": "code",
   "execution_count": 713,
   "metadata": {},
   "outputs": [],
   "source": [
    "scope = ['https://www.googleapis.com/auth/drive']\n",
    "credentials = ServiceAccountCredentials.from_json_keyfile_name('sanitized-data-502a805415d7.json',scope)\n",
    "client = gspread.authorize(credentials)\n",
    "sheet = client.open('da-task').sheet1"
   ]
  },
  {
   "cell_type": "markdown",
   "metadata": {},
   "source": [
    "### Accessing Data"
   ]
  },
  {
   "cell_type": "code",
   "execution_count": 714,
   "metadata": {},
   "outputs": [],
   "source": [
    "df = pd.DataFrame(sheet.get_all_records())"
   ]
  },
  {
   "cell_type": "markdown",
   "metadata": {},
   "source": [
    "### Reading Data"
   ]
  },
  {
   "cell_type": "code",
   "execution_count": 715,
   "metadata": {},
   "outputs": [
    {
     "data": {
      "text/html": [
       "<div>\n",
       "<style scoped>\n",
       "    .dataframe tbody tr th:only-of-type {\n",
       "        vertical-align: middle;\n",
       "    }\n",
       "\n",
       "    .dataframe tbody tr th {\n",
       "        vertical-align: top;\n",
       "    }\n",
       "\n",
       "    .dataframe thead th {\n",
       "        text-align: right;\n",
       "    }\n",
       "</style>\n",
       "<table border=\"1\" class=\"dataframe\">\n",
       "  <thead>\n",
       "    <tr style=\"text-align: right;\">\n",
       "      <th></th>\n",
       "      <th>created_time</th>\n",
       "      <th>full_name</th>\n",
       "      <th>email</th>\n",
       "      <th>phone_number</th>\n",
       "      <th>city</th>\n",
       "    </tr>\n",
       "  </thead>\n",
       "  <tbody>\n",
       "    <tr>\n",
       "      <th>0</th>\n",
       "      <td>11/3/21</td>\n",
       "      <td>Lakshminarayana Murthy Ganti</td>\n",
       "      <td>lnmganti@yahoo.com</td>\n",
       "      <td>919483163948</td>\n",
       "      <td>Bangalore</td>\n",
       "    </tr>\n",
       "    <tr>\n",
       "      <th>1</th>\n",
       "      <td>11/3/21</td>\n",
       "      <td>👰</td>\n",
       "      <td>u.deglurkar@gmail.com</td>\n",
       "      <td>919823010974</td>\n",
       "      <td>Pune</td>\n",
       "    </tr>\n",
       "    <tr>\n",
       "      <th>2</th>\n",
       "      <td>1/2/21</td>\n",
       "      <td>Preeti Kumari</td>\n",
       "      <td>INDIA@MMTZ.COM</td>\n",
       "      <td>1507490000000000.0</td>\n",
       "      <td>Gurugram</td>\n",
       "    </tr>\n",
       "    <tr>\n",
       "      <th>3</th>\n",
       "      <td>11/3/21</td>\n",
       "      <td>Ganesh Viswanathan 👰photo</td>\n",
       "      <td>gansgans@rediffmail.com✶</td>\n",
       "      <td>608645796670595</td>\n",
       "      <td>Bangalore</td>\n",
       "    </tr>\n",
       "    <tr>\n",
       "      <th>4</th>\n",
       "      <td>11/3/21</td>\n",
       "      <td>ಬಸವರಾಜ</td>\n",
       "      <td>take2video1@gmail.com</td>\n",
       "      <td>1384930000000000.0</td>\n",
       "      <td>Mumbai</td>\n",
       "    </tr>\n",
       "  </tbody>\n",
       "</table>\n",
       "</div>"
      ],
      "text/plain": [
       "  created_time                     full_name                     email  \\\n",
       "0      11/3/21  Lakshminarayana Murthy Ganti        lnmganti@yahoo.com   \n",
       "1      11/3/21                             👰     u.deglurkar@gmail.com   \n",
       "2       1/2/21                 Preeti Kumari            INDIA@MMTZ.COM   \n",
       "3      11/3/21     Ganesh Viswanathan 👰photo  gansgans@rediffmail.com✶   \n",
       "4      11/3/21                        ಬಸವರಾಜ     take2video1@gmail.com   \n",
       "\n",
       "         phone_number       city  \n",
       "0        919483163948  Bangalore  \n",
       "1        919823010974       Pune  \n",
       "2  1507490000000000.0   Gurugram  \n",
       "3     608645796670595  Bangalore  \n",
       "4  1384930000000000.0     Mumbai  "
      ]
     },
     "execution_count": 715,
     "metadata": {},
     "output_type": "execute_result"
    }
   ],
   "source": [
    "df.head()"
   ]
  },
  {
   "cell_type": "markdown",
   "metadata": {},
   "source": [
    "### Looking into columns of our Data"
   ]
  },
  {
   "cell_type": "code",
   "execution_count": 716,
   "metadata": {},
   "outputs": [
    {
     "name": "stdout",
     "output_type": "stream",
     "text": [
      "<class 'pandas.core.frame.DataFrame'>\n",
      "RangeIndex: 25 entries, 0 to 24\n",
      "Data columns (total 5 columns):\n",
      " #   Column        Non-Null Count  Dtype \n",
      "---  ------        --------------  ----- \n",
      " 0   created_time  25 non-null     object\n",
      " 1   full_name     25 non-null     object\n",
      " 2   email         25 non-null     object\n",
      " 3   phone_number  25 non-null     object\n",
      " 4   city          25 non-null     object\n",
      "dtypes: object(5)\n",
      "memory usage: 1.1+ KB\n"
     ]
    }
   ],
   "source": [
    "df.info()"
   ]
  },
  {
   "cell_type": "markdown",
   "metadata": {},
   "source": [
    "# II. Data Cleaning"
   ]
  },
  {
   "cell_type": "markdown",
   "metadata": {},
   "source": [
    "## Errors to resolve\n",
    "\n",
    "### Date\n",
    "DD MM YYYY\n",
    "Remove Any invalid data\n",
    "\n",
    "### Full Name\n",
    "Split in First Name and List Name\n",
    "First Letter in Uppercase in First Name and Last Name\n",
    "If there is no Last Name, Add First Name as Last Name\n",
    "If No Valid name, write \"No Name Found\"\n",
    "\n",
    "### Email\n",
    "Make it lower case\n",
    "Must be a valid email\n",
    "Leave blank if there is no valid email\n",
    "Remove any invalid data\n",
    "\n",
    "### Phone\n",
    "\"Format : Country Code and Phone Number \n",
    "918800302222\"\n",
    "Remove any invalid data\n",
    "If there is any international data, highlight that by color\n",
    "If country code is mission, add 91 before number\n",
    "\n",
    "### Dashboard\n",
    "Please create dashboard in Google sheet \n",
    "Create Charts, Graphs what you feel is the best \n",
    "You can add some dummy data if you think data is less\n"
   ]
  },
  {
   "cell_type": "code",
   "execution_count": 717,
   "metadata": {},
   "outputs": [
    {
     "data": {
      "text/plain": [
       "0          11/3/21\n",
       "1          11/3/21\n",
       "2           1/2/21\n",
       "3          11/3/21\n",
       "4          11/3/21\n",
       "5       2 jan 2021\n",
       "6          11/3/21\n",
       "7          11/3/21\n",
       "8          11/2/21\n",
       "9     Jan 22, 1920\n",
       "10         11/2/21\n",
       "11         11/2/21\n",
       "12         11/2/21\n",
       "13         11/2/21\n",
       "14    4th Apr 1992\n",
       "15         11/2/21\n",
       "16         11/2/21\n",
       "17         11/1/21\n",
       "18         11/1/21\n",
       "19         11/1/21\n",
       "20         11/1/21\n",
       "21         11/1/21\n",
       "22         11/1/21\n",
       "23         11/1/21\n",
       "24         11/1/21\n",
       "Name: created_time, dtype: object"
      ]
     },
     "execution_count": 717,
     "metadata": {},
     "output_type": "execute_result"
    }
   ],
   "source": [
    "df.created_time"
   ]
  },
  {
   "cell_type": "code",
   "execution_count": 718,
   "metadata": {},
   "outputs": [
    {
     "data": {
      "text/plain": [
       "array(['11/3/21', '1/2/21', '2 jan 2021', '11/2/21', 'Jan 22, 1920',\n",
       "       '4th Apr 1992', '11/1/21'], dtype=object)"
      ]
     },
     "execution_count": 718,
     "metadata": {},
     "output_type": "execute_result"
    }
   ],
   "source": [
    "df.created_time.unique()"
   ]
  },
  {
   "cell_type": "markdown",
   "metadata": {},
   "source": [
    "### Date"
   ]
  },
  {
   "cell_type": "code",
   "execution_count": 719,
   "metadata": {},
   "outputs": [],
   "source": [
    "df.created_time = df.created_time.str.replace(' /','/').str.replace('/ ','/')\n",
    "df.created_time = df.created_time.str.replace('jan','/1/').str.replace('Apr','4')\n",
    "df.created_time = df.created_time.str.replace('2021','21')\n",
    "df.created_time = df.created_time.str.replace(',','/')\n",
    "df.created_time = df.created_time.str.replace('th','').str.replace('Jan','1')\n",
    "df.created_time = df.created_time.str.replace(\" \",'/')\n",
    "df.created_time = df.created_time.str.replace('/1/','/01/').str.replace('/2/','/02/').str.replace('/3/','/03/').str.replace('/4/','/04/').str.replace('/21','/2021')\n",
    "df.created_time = df.created_time.str.replace('//','/')\n"
   ]
  },
  {
   "cell_type": "markdown",
   "metadata": {},
   "source": [
    "### Name"
   ]
  },
  {
   "cell_type": "markdown",
   "metadata": {},
   "source": [
    "#### First Name"
   ]
  },
  {
   "cell_type": "code",
   "execution_count": 720,
   "metadata": {},
   "outputs": [],
   "source": [
    "first_name = df.full_name.str.replace(' 👰photo','').str.replace('👰','').str.replace('🖤','').str.split(\" \").str[0:2].str.join(' ').str.capitalize()\n",
    "df['First Name'] = first_name"
   ]
  },
  {
   "cell_type": "markdown",
   "metadata": {},
   "source": [
    "#### Last Name"
   ]
  },
  {
   "cell_type": "code",
   "execution_count": 721,
   "metadata": {},
   "outputs": [],
   "source": [
    "last_name = df.full_name.str.replace(' 👰photo','').str.replace('👰','').str.replace('🖤','').str.split(\" \").str[-1].str.capitalize()\n",
    "df['Last Name'] = last_name"
   ]
  },
  {
   "cell_type": "markdown",
   "metadata": {},
   "source": [
    "### Email"
   ]
  },
  {
   "cell_type": "code",
   "execution_count": 722,
   "metadata": {},
   "outputs": [],
   "source": [
    "email_id = df.email.str.lower().str.replace('🎀','').str.replace('@gmail','gmail').str.replace('gmail','@gmail').str.replace('✶','')\n",
    "df['Email ID'] = email_id"
   ]
  },
  {
   "cell_type": "markdown",
   "metadata": {},
   "source": [
    "### Phone Number"
   ]
  },
  {
   "cell_type": "code",
   "execution_count": 723,
   "metadata": {},
   "outputs": [
    {
     "name": "stderr",
     "output_type": "stream",
     "text": [
      "C:\\Users\\wazid\\AppData\\Local\\Temp/ipykernel_8872/3029647224.py:1: FutureWarning: The default value of regex will change from True to False in a future version.\n",
      "  df.phone_number = df.phone_number.astype(str).str.replace('-','').str.replace('AC','').str.replace('0.','91')\n"
     ]
    }
   ],
   "source": [
    "df.phone_number = df.phone_number.astype(str).str.replace('-','').str.replace('AC','').str.replace('0.','91')"
   ]
  },
  {
   "cell_type": "code",
   "execution_count": 724,
   "metadata": {},
   "outputs": [],
   "source": [
    "values = []\n",
    "for y in df['phone_number']:\n",
    "    if len(y)==12:\n",
    "        values.append(y)\n",
    "    else:\n",
    "        values.append('NaN')\n",
    "        \n",
    "df['Phone Number'] = values"
   ]
  },
  {
   "cell_type": "markdown",
   "metadata": {},
   "source": [
    "### City"
   ]
  },
  {
   "cell_type": "code",
   "execution_count": 725,
   "metadata": {},
   "outputs": [],
   "source": [
    "df['City'] = df.city.str.capitalize()"
   ]
  },
  {
   "cell_type": "markdown",
   "metadata": {},
   "source": [
    "### Dropping unecessary features"
   ]
  },
  {
   "cell_type": "code",
   "execution_count": 727,
   "metadata": {},
   "outputs": [],
   "source": [
    "df = df.drop(['full_name','email','phone_number','city'],axis=1)"
   ]
  },
  {
   "cell_type": "markdown",
   "metadata": {},
   "source": [
    "### Importing cleaned data"
   ]
  },
  {
   "cell_type": "code",
   "execution_count": 742,
   "metadata": {},
   "outputs": [],
   "source": [
    "df.to_excel(\"Sanitized_data.xlsx\")"
   ]
  }
 ],
 "metadata": {
  "interpreter": {
   "hash": "37ce594c0e17e5848ba4acb2047ab078aa7de70dd4bf541c0a95c11d437d6938"
  },
  "kernelspec": {
   "display_name": "Python 3.10.0 64-bit",
   "language": "python",
   "name": "python3"
  },
  "language_info": {
   "codemirror_mode": {
    "name": "ipython",
    "version": 3
   },
   "file_extension": ".py",
   "mimetype": "text/x-python",
   "name": "python",
   "nbconvert_exporter": "python",
   "pygments_lexer": "ipython3",
   "version": "3.10.0"
  },
  "orig_nbformat": 4
 },
 "nbformat": 4,
 "nbformat_minor": 2
}
